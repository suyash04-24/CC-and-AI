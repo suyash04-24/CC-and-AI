{
 "cells": [
  {
   "cell_type": "code",
   "execution_count": 5,
   "id": "09d66fe7-af03-4a67-8e93-e4e7c7402e3e",
   "metadata": {},
   "outputs": [
    {
     "name": "stdout",
     "output_type": "stream",
     "text": [
      "Suyash Lagad ||TACO22119.\n"
     ]
    },
    {
     "name": "stdin",
     "output_type": "stream",
     "text": [
      "Enter the number of vertices:  4\n",
      "Enter the number of edges:  5\n"
     ]
    },
    {
     "name": "stdout",
     "output_type": "stream",
     "text": [
      "Enter the edges (u v w):\n"
     ]
    },
    {
     "name": "stdin",
     "output_type": "stream",
     "text": [
      " 0 1 10\n",
      " 0 2 6\n",
      " 0 3 5 \n",
      " 1 3 15\n",
      " 2 3 4\n"
     ]
    },
    {
     "name": "stdout",
     "output_type": "stream",
     "text": [
      "\n",
      "All Edges with Heuristic (1/weight):\n",
      "2 -- 3 == 4, Heuristic: 0.25\n",
      "0 -- 3 == 5, Heuristic: 0.2\n",
      "0 -- 2 == 6, Heuristic: 0.1667\n",
      "0 -- 1 == 10, Heuristic: 0.1\n",
      "1 -- 3 == 15, Heuristic: 0.0667\n",
      "\n",
      "Edges in the constructed MST:\n",
      "2 -- 3 == 4\n",
      "0 -- 3 == 5\n",
      "0 -- 1 == 10\n",
      "Minimum Spanning Tree cost: 19\n"
     ]
    }
   ],
   "source": [
    "class Graph:\n",
    "    def __init__(self, vertices):\n",
    "        self.V = vertices\n",
    "        self.graph = []\n",
    "\n",
    "    def addEdge(self, u, v, w):\n",
    "        heuristic = round(1 / w, 4)  # Heuristic: inverse of weight\n",
    "        self.graph.append([u, v, w, heuristic])\n",
    "\n",
    "    def find(self, parent, i):\n",
    "        if parent[i] != i:\n",
    "            parent[i] = self.find(parent, parent[i])\n",
    "        return parent[i]\n",
    "\n",
    "    def union(self, parent, rank, x, y):\n",
    "        if rank[x] < rank[y]:\n",
    "            parent[x] = y\n",
    "        elif rank[x] > rank[y]:\n",
    "            parent[y] = x\n",
    "        else:\n",
    "            parent[y] = x\n",
    "            rank[x] += 1\n",
    "\n",
    "    def KruskalMST(self):\n",
    "        result = []  # Store the result MST\n",
    "        i = 0  # Index for sorted edges\n",
    "        e = 0  # Count of edges in MST\n",
    "\n",
    "        # Step 1: Sort all edges by weight\n",
    "        self.graph = sorted(self.graph, key=lambda item: item[2])\n",
    "\n",
    "        # Display all edges with heuristic values\n",
    "        print(\"\\nAll Edges with Heuristic (1/weight):\")\n",
    "        for u, v, w, h in self.graph:\n",
    "            print(f\"{u} -- {v} == {w}, Heuristic: {h}\")\n",
    "\n",
    "        # Prepare Union-Find structures\n",
    "        max_vertex = 0\n",
    "        for edge in self.graph:\n",
    "            max_vertex = max(max_vertex, edge[0], edge[1])\n",
    "\n",
    "        parent = [i for i in range(max_vertex + 1)]\n",
    "        rank = [0] * (max_vertex + 1)\n",
    "\n",
    "        # Build MST\n",
    "        while e < self.V - 1 and i < len(self.graph):\n",
    "            u, v, w, h = self.graph[i]\n",
    "            i += 1\n",
    "            x = self.find(parent, u)\n",
    "            y = self.find(parent, v)\n",
    "\n",
    "            if x != y:\n",
    "                e += 1\n",
    "                result.append([u, v, w])\n",
    "                self.union(parent, rank, x, y)\n",
    "\n",
    "        # Print result\n",
    "        minimumCost = sum([w for _, _, w in result])\n",
    "        print(\"\\nEdges in the constructed MST:\")\n",
    "        for u, v, w in result:\n",
    "            print(f\"{u} -- {v} == {w}\")\n",
    "        print(\"Minimum Spanning Tree cost:\", minimumCost)\n",
    "\n",
    "\n",
    "if __name__ == '__main__':\n",
    "    print(\"Suyash Lagad ||TACO22119.\")\n",
    "    vertices = int(input(\"Enter the number of vertices: \"))\n",
    "    g = Graph(vertices)\n",
    "    edges = int(input(\"Enter the number of edges: \"))\n",
    "    print(\"Enter the edges (u v w):\")\n",
    "    \n",
    "    for _ in range(edges):\n",
    "        u, v, w = map(int, input().split())\n",
    "        g.addEdge(u, v, w)\n",
    "\n",
    "    g.KruskalMST()\n"
   ]
  },
  {
   "cell_type": "code",
   "execution_count": null,
   "id": "fe18c944-f3c1-4a7c-8b9d-515b5ff5c7b2",
   "metadata": {},
   "outputs": [],
   "source": []
  }
 ],
 "metadata": {
  "kernelspec": {
   "display_name": "Python 3 (ipykernel)",
   "language": "python",
   "name": "python3"
  },
  "language_info": {
   "codemirror_mode": {
    "name": "ipython",
    "version": 3
   },
   "file_extension": ".py",
   "mimetype": "text/x-python",
   "name": "python",
   "nbconvert_exporter": "python",
   "pygments_lexer": "ipython3",
   "version": "3.13.3"
  }
 },
 "nbformat": 4,
 "nbformat_minor": 5
}
