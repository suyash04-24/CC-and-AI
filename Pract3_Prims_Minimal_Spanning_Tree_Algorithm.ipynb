{
 "cells": [
  {
   "cell_type": "code",
   "execution_count": null,
   "id": "b903b52c-5a88-4808-876a-7e26a44ca1cc",
   "metadata": {},
   "outputs": [
    {
     "name": "stdout",
     "output_type": "stream",
     "text": [
      "Suyash Lagad ||TACO22119.\n"
     ]
    }
   ],
   "source": [
    "import sys\n",
    "\n",
    "print(\"Suyash Lagad ||TACO22119.\")\n",
    "\n",
    "class Graph:\n",
    "    def __init__(self, vertices):\n",
    "        self.V = vertices\n",
    "        self.graph = [[0 for _ in range(vertices)] for _ in range(vertices)]\n",
    "        self.heuristic = [0] * vertices\n",
    "\n",
    "\n",
    "    def printMST(self, parent):\n",
    "        print(\"\\nFinal MST:\")\n",
    "        print(\"Edge \\tWeight\")\n",
    "        for i in range(1, self.V):\n",
    "            print(f\"{parent[i]} - {i} \\t{self.graph[i][parent[i]]}\")\n",
    "\n",
    "    def minKey(self, key, mstSet):\n",
    "        min_val = sys.maxsize\n",
    "        min_index = -1\n",
    "\n",
    "        for v in range(self.V):\n",
    "            if key[v] < min_val and not mstSet[v]:\n",
    "                min_val = key[v]\n",
    "                min_index = v\n",
    "\n",
    "        return min_index\n",
    "\n",
    "    def primMST(self):\n",
    "        key = [sys.maxsize] * self.V\n",
    "        parent = [None] * self.V\n",
    "        key[0] = 0  # Start from vertex 0\n",
    "        mstSet = [False] * self.V\n",
    "        parent[0] = -1  # Root of MST\n",
    "\n",
    "        print(\"\\n--- Prim’s Algorithm Execution ---\\n\")\n",
    "        for count in range(self.V):\n",
    "            u = self.minKey(key, mstSet)\n",
    "            mstSet[u] = True\n",
    "\n",
    "            print(f\"Step {count + 1}: Picked vertex {u} into MST\")\n",
    "            print(\"Current Heuristic Values (Key Array):\")\n",
    "            for v in range(self.V):\n",
    "                status = \"✓\" if mstSet[v] else \"✗\"\n",
    "                print(f\"Vertex {v}: Key = {key[v]}, In MST = {status}\")\n",
    "            print()\n",
    "\n",
    "            for v in range(self.V):\n",
    "                if self.graph[u][v] > 0 and not mstSet[v] and key[v] > self.graph[u][v]:\n",
    "                    key[v] = self.graph[u][v]\n",
    "                    parent[v] = u\n",
    "\n",
    "        self.printMST(parent)\n",
    "\n",
    "if __name__ == \"__main__\":\n",
    "    vertices = int(input(\"Enter the number of vertices: \"))\n",
    "    g = Graph(vertices)\n",
    "    print(\"Enter the graph matrix (space-separated rows):\")\n",
    "    for i in range(vertices):\n",
    "        row = list(map(int, input().split()))\n",
    "        for j in range(vertices):\n",
    "            g.graph[i][j] = row[j]\n",
    "\n",
    "    g.primMST()"
   ]
  },
  {
   "cell_type": "code",
   "execution_count": null,
   "id": "86af04d0-19b3-47d7-bb15-95d2154abdbb",
   "metadata": {},
   "outputs": [],
   "source": []
  }
 ],
 "metadata": {
  "kernelspec": {
   "display_name": "Python 3 (ipykernel)",
   "language": "python",
   "name": "python3"
  },
  "language_info": {
   "codemirror_mode": {
    "name": "ipython",
    "version": 3
   },
   "file_extension": ".py",
   "mimetype": "text/x-python",
   "name": "python",
   "nbconvert_exporter": "python",
   "pygments_lexer": "ipython3",
   "version": "3.13.3"
  }
 },
 "nbformat": 4,
 "nbformat_minor": 5
}
