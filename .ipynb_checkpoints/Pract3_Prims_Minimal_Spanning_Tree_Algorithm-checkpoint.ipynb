{
 "cells": [
  {
   "cell_type": "code",
   "execution_count": 1,
   "id": "b903b52c-5a88-4808-876a-7e26a44ca1cc",
   "metadata": {},
   "outputs": [
    {
     "name": "stdout",
     "output_type": "stream",
     "text": [
      "NAME: DISHA AGARWAL\n",
      "ROLL: 22156\n"
     ]
    },
    {
     "name": "stdin",
     "output_type": "stream",
     "text": [
      "Enter the number of vertices:  2\n"
     ]
    },
    {
     "name": "stdout",
     "output_type": "stream",
     "text": [
      "Enter the graph matrix (space-separated rows):\n"
     ]
    },
    {
     "name": "stdin",
     "output_type": "stream",
     "text": [
      " 1 2\n",
      " 2 3\n"
     ]
    },
    {
     "name": "stdout",
     "output_type": "stream",
     "text": [
      "\n",
      "--- Prim’s Algorithm Execution ---\n",
      "\n",
      "Step 1: Picked vertex 0 into MST\n",
      "Current Heuristic Values (Key Array):\n",
      "Vertex 0: Key = 0, In MST = ✓\n",
      "Vertex 1: Key = 9223372036854775807, In MST = ✗\n",
      "\n",
      "Step 2: Picked vertex 1 into MST\n",
      "Current Heuristic Values (Key Array):\n",
      "Vertex 0: Key = 0, In MST = ✓\n",
      "Vertex 1: Key = 2, In MST = ✓\n",
      "\n",
      "\n",
      "Final MST:\n",
      "Edge \tWeight\n",
      "0 - 1 \t2\n"
     ]
    }
   ],
   "source": [
    "import sys\n",
    "\n",
    "print(\"NAME: pradnya jadhav\")\n",
    "print(\"ROLL: 22143\")\n",
    "\n",
    "class Graph:\n",
    "    def __init__(self, vertices):\n",
    "        self.V = vertices\n",
    "        self.graph = [[0 for _ in range(vertices)] for _ in range(vertices)]\n",
    "        self.heuristic = [0] * vertices\n",
    "\n",
    "\n",
    "    def printMST(self, parent):\n",
    "        print(\"\\nFinal MST:\")\n",
    "        print(\"Edge \\tWeight\")\n",
    "        for i in range(1, self.V):\n",
    "            print(f\"{parent[i]} - {i} \\t{self.graph[i][parent[i]]}\")\n",
    "\n",
    "    def minKey(self, key, mstSet):\n",
    "        min_val = sys.maxsize\n",
    "        min_index = -1\n",
    "\n",
    "        for v in range(self.V):\n",
    "            if key[v] < min_val and not mstSet[v]:\n",
    "                min_val = key[v]\n",
    "                min_index = v\n",
    "\n",
    "        return min_index\n",
    "\n",
    "    def primMST(self):\n",
    "        key = [sys.maxsize] * self.V\n",
    "        parent = [None] * self.V\n",
    "        key[0] = 0  # Start from vertex 0\n",
    "        mstSet = [False] * self.V\n",
    "        parent[0] = -1  # Root of MST\n",
    "\n",
    "        print(\"\\n--- Prim’s Algorithm Execution ---\\n\")\n",
    "        for count in range(self.V):\n",
    "            u = self.minKey(key, mstSet)\n",
    "            mstSet[u] = True\n",
    "\n",
    "            print(f\"Step {count + 1}: Picked vertex {u} into MST\")\n",
    "            print(\"Current Heuristic Values (Key Array):\")\n",
    "            for v in range(self.V):\n",
    "                status = \"✓\" if mstSet[v] else \"✗\"\n",
    "                print(f\"Vertex {v}: Key = {key[v]}, In MST = {status}\")\n",
    "            print()\n",
    "\n",
    "            for v in range(self.V):\n",
    "                if self.graph[u][v] > 0 and not mstSet[v] and key[v] > self.graph[u][v]:\n",
    "                    key[v] = self.graph[u][v]\n",
    "                    parent[v] = u\n",
    "\n",
    "        self.printMST(parent)\n",
    "\n",
    "if __name__ == \"__main__\":\n",
    "    vertices = int(input(\"Enter the number of vertices: \"))\n",
    "    g = Graph(vertices)\n",
    "    print(\"Enter the graph matrix (space-separated rows):\")\n",
    "    for i in range(vertices):\n",
    "        row = list(map(int, input().split()))\n",
    "        for j in range(vertices):\n",
    "            g.graph[i][j] = row[j]\n",
    "\n",
    "    g.primMST()"
   ]
  },
  {
   "cell_type": "code",
   "execution_count": null,
   "id": "86af04d0-19b3-47d7-bb15-95d2154abdbb",
   "metadata": {},
   "outputs": [],
   "source": []
  }
 ],
 "metadata": {
  "kernelspec": {
   "display_name": "Python [conda env:base] *",
   "language": "python",
   "name": "conda-base-py"
  },
  "language_info": {
   "codemirror_mode": {
    "name": "ipython",
    "version": 3
   },
   "file_extension": ".py",
   "mimetype": "text/x-python",
   "name": "python",
   "nbconvert_exporter": "python",
   "pygments_lexer": "ipython3",
   "version": "3.12.7"
  }
 },
 "nbformat": 4,
 "nbformat_minor": 5
}
