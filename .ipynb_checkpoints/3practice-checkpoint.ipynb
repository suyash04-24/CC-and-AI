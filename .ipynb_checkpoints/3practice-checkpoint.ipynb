{
 "cells": [
  {
   "cell_type": "code",
   "execution_count": 1,
   "id": "1d73df8e-4837-40db-8dab-59f5e3529562",
   "metadata": {},
   "outputs": [
    {
     "name": "stdout",
     "output_type": "stream",
     "text": [
      "PRADNYA JADHAV ||TACO11243.\n"
     ]
    },
    {
     "name": "stdin",
     "output_type": "stream",
     "text": [
      "Enter a number:  12\n"
     ]
    },
    {
     "name": "stdout",
     "output_type": "stream",
     "text": [
      "The number is Positive.\n"
     ]
    }
   ],
   "source": [
    "print(\"PRADNYA JADHAV ||TACO11243.\")\n",
    "num = float(input(\"Enter a number: \"))\n",
    "\n",
    "# Checking the condition\n",
    "if num > 0:\n",
    "    print(\"The number is Positive.\")\n",
    "elif num < 0:\n",
    "    print(\"The number is Negative.\")\n",
    "else:\n",
    "    print(\"The number is Zero.\")\n"
   ]
  },
  {
   "cell_type": "code",
   "execution_count": 5,
   "id": "5dd38f68-7cfe-423a-b92f-be7940cd7dbe",
   "metadata": {},
   "outputs": [
    {
     "name": "stdout",
     "output_type": "stream",
     "text": [
      "PRADNYA JADHAV ||TACO11243.\n"
     ]
    },
    {
     "name": "stdin",
     "output_type": "stream",
     "text": [
      "Enter a decimal number:  23\n"
     ]
    },
    {
     "name": "stdout",
     "output_type": "stream",
     "text": [
      "Binary: 10111\n"
     ]
    }
   ],
   "source": [
    "print(\"PRADNYA JADHAV ||TACO11243.\")\n",
    "\n",
    "def decimal_to_binary(n):\n",
    "    if n == 0:\n",
    "        return \"0\"\n",
    "    elif n == 1:\n",
    "        return \"1\"\n",
    "    else:\n",
    "        return decimal_to_binary(n // 2) + str(n % 2)\n",
    "\n",
    "# Taking user input\n",
    "num = int(input(\"Enter a decimal number: \"))\n",
    "\n",
    "# Handling edge case for 0 separately\n",
    "if num == 0:\n",
    "    print(\"Binary: 0\")\n",
    "else:\n",
    "    print(\"Binary:\", decimal_to_binary(num))\n"
   ]
  },
  {
   "cell_type": "code",
   "execution_count": null,
   "id": "8381951e-2d96-4318-8db4-e2ad39d565dd",
   "metadata": {},
   "outputs": [],
   "source": [
    "def is_prime(n):\n",
    "    if n < 2:\n",
    "        return False\n",
    "    for i in range(2, int(n ** 0.5) + 1):\n",
    "        if n % i == 0:\n",
    "            return False\n",
    "    return True\n",
    "\n",
    "# Function to print all prime numbers in a given range\n",
    "def print_primes(start, end):\n",
    "    print(f\"Prime numbers between {start} and {end} are:\")\n",
    "    for num in range(start, end + 1):\n",
    "        if is_prime(num):\n",
    "            print(num, end=\" \")\n",
    "    print()\n",
    "print(\"PRADNYA JADHAV ||TACO11243.\")\n",
    "start = int(input(\"Enter the start of the range: \"))\n",
    "end = int(input(\"Enter the end of the range: \"))\n",
    "# Calling the function\n",
    "print_primes(start, end) \n"
   ]
  }
 ],
 "metadata": {
  "kernelspec": {
   "display_name": "Python [conda env:base] *",
   "language": "python",
   "name": "conda-base-py"
  },
  "language_info": {
   "codemirror_mode": {
    "name": "ipython",
    "version": 3
   },
   "file_extension": ".py",
   "mimetype": "text/x-python",
   "name": "python",
   "nbconvert_exporter": "python",
   "pygments_lexer": "ipython3",
   "version": "3.12.7"
  }
 },
 "nbformat": 4,
 "nbformat_minor": 5
}
