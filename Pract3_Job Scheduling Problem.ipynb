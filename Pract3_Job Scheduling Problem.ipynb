{
 "cells": [
  {
   "cell_type": "code",
   "execution_count": 1,
   "id": "31c17f04-2dd4-46aa-84b8-4866f19c48e3",
   "metadata": {},
   "outputs": [
    {
     "name": "stdout",
     "output_type": "stream",
     "text": [
      "Suyash Lagad ||TACO22119.\n"
     ]
    },
    {
     "name": "stdin",
     "output_type": "stream",
     "text": [
      "Enter the number of jobs:  4\n",
      "Enter the profit of job 1:  60\n",
      "Enter the name of job 1:  A\n",
      "Enter the deadline of job 1:  2\n"
     ]
    },
    {
     "name": "stdout",
     "output_type": "stream",
     "text": [
      "\n"
     ]
    },
    {
     "name": "stdin",
     "output_type": "stream",
     "text": [
      "Enter the profit of job 2:  50\n",
      "Enter the name of job 2:  B\n",
      "Enter the deadline of job 2:  1\n"
     ]
    },
    {
     "name": "stdout",
     "output_type": "stream",
     "text": [
      "\n"
     ]
    },
    {
     "name": "stdin",
     "output_type": "stream",
     "text": [
      "Enter the profit of job 3:  40\n",
      "Enter the name of job 3:  C\n",
      "Enter the deadline of job 3:  2\n"
     ]
    },
    {
     "name": "stdout",
     "output_type": "stream",
     "text": [
      "\n"
     ]
    },
    {
     "name": "stdin",
     "output_type": "stream",
     "text": [
      "Enter the profit of job 4:  30\n",
      "Enter the name of job 4:  D\n",
      "Enter the deadline of job 4:  1\n"
     ]
    },
    {
     "name": "stdout",
     "output_type": "stream",
     "text": [
      "\n",
      "\n",
      "Jobs scheduled in order of slots:\n",
      "Slot 1: B\n",
      "Slot 2: A\n",
      "Slot 3: null\n",
      "Slot 4: null\n",
      "\n",
      "Total profit: 110\n"
     ]
    }
   ],
   "source": [
    "def heuristic(profit, deadline):\n",
    "    \"\"\"Heuristic: profit per unit time (or urgency factor)\"\"\"\n",
    "    return profit / deadline if deadline != 0 else profit\n",
    "\n",
    "# Inputs\n",
    "profit = []\n",
    "jobs = []\n",
    "deadline = []\n",
    "\n",
    "print(\"Suyash Lagad ||TACO22119.\")\n",
    "n = int(input(\"Enter the number of jobs: \"))\n",
    "\n",
    "for i in range(n):\n",
    "    p = int(input(f\"Enter the profit of job {i + 1}: \"))\n",
    "    profit.append(p)\n",
    "    \n",
    "    j = input(f\"Enter the name of job {i + 1}: \")\n",
    "    jobs.append(j)\n",
    "    \n",
    "    d = int(input(f\"Enter the deadline of job {i + 1}: \"))\n",
    "    deadline.append(min(d, n))  # Clamp deadline to n to avoid out of range\n",
    "    print()\n",
    "\n",
    "# Apply heuristic and prepare job list\n",
    "profitNJobs = []\n",
    "for i in range(n):\n",
    "    h = heuristic(profit[i], deadline[i])\n",
    "    profitNJobs.append((h, profit[i], jobs[i], deadline[i]))  # (heuristic, profit, job name, deadline)\n",
    "\n",
    "# Sort by heuristic value in descending order\n",
    "profitNJobs.sort(key=lambda x: x[0], reverse=True)\n",
    "\n",
    "# Initialize time slots and answer list\n",
    "slot = [0] * (n + 1)  # Indexing from 1 to n\n",
    "ans = ['null'] * (n + 1)\n",
    "total_profit = 0\n",
    "\n",
    "# Greedy Job Scheduling\n",
    "for i in range(n):\n",
    "    job = profitNJobs[i]\n",
    "    for j in range(job[3], 0, -1):  # Start from deadline to 1\n",
    "        if slot[j] == 0:\n",
    "            ans[j] = job[2]  # Schedule the job name\n",
    "            total_profit += job[1]  # Add the job's profit\n",
    "            slot[j] = 1  # Mark the slot as filled\n",
    "            break\n",
    "\n",
    "# Output results\n",
    "print(\"\\nJobs scheduled in order of slots:\")\n",
    "for i in range(1, n + 1):\n",
    "    print(f\"Slot {i}: {ans[i]}\")\n",
    "\n",
    "print(\"\\nTotal profit:\", total_profit)\n"
   ]
  },
  {
   "cell_type": "code",
   "execution_count": null,
   "id": "d64cfb5a-0cf9-4d4a-9c06-28f508bce458",
   "metadata": {},
   "outputs": [],
   "source": []
  },
  {
   "cell_type": "code",
   "execution_count": null,
   "id": "15da7766-dd6d-410d-a50d-4c9b77e47f42",
   "metadata": {},
   "outputs": [],
   "source": []
  }
 ],
 "metadata": {
  "kernelspec": {
   "display_name": "Python 3 (ipykernel)",
   "language": "python",
   "name": "python3"
  },
  "language_info": {
   "codemirror_mode": {
    "name": "ipython",
    "version": 3
   },
   "file_extension": ".py",
   "mimetype": "text/x-python",
   "name": "python",
   "nbconvert_exporter": "python",
   "pygments_lexer": "ipython3",
   "version": "3.13.3"
  }
 },
 "nbformat": 4,
 "nbformat_minor": 5
}
