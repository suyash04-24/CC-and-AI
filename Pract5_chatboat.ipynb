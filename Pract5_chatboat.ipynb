{
 "cells": [
  {
   "cell_type": "code",
   "execution_count": 1,
   "id": "3342c9ea-fc4a-4968-ac96-cae820673016",
   "metadata": {},
   "outputs": [
    {
     "name": "stdout",
     "output_type": "stream",
     "text": [
      "Suyash Lagad ||TACO22119.\n",
      "🤖 ChatBot is online! (Type 'exit' to quit)\n"
     ]
    },
    {
     "name": "stdin",
     "output_type": "stream",
     "text": [
      "User:  hello\n"
     ]
    },
    {
     "name": "stdout",
     "output_type": "stream",
     "text": [
      "Bot: Hi there! Good afternoon!\n"
     ]
    },
    {
     "name": "stdin",
     "output_type": "stream",
     "text": [
      "User:  thank you\n"
     ]
    },
    {
     "name": "stdout",
     "output_type": "stream",
     "text": [
      "Bot: You're welcome!\n"
     ]
    },
    {
     "name": "stdin",
     "output_type": "stream",
     "text": [
      "User:  exit\n"
     ]
    },
    {
     "name": "stdout",
     "output_type": "stream",
     "text": [
      "Bot: Goodbye! 👋\n"
     ]
    }
   ],
   "source": [
    "import random\n",
    "import re\n",
    "import datetime\n",
    "\n",
    "# Dictionary of predefined responses\n",
    "responses = {\n",
    "    \"greeting\": [\"Hello!\", \"Hi there!\", \"Welcome!\", \"Hey!\", \"Nice to meet you!\"],\n",
    "    \"farewell\": [\"Goodbye!\", \"See you later!\", \"Take care!\", \"Bye-bye!\"],\n",
    "    \"thanks\": [\"You're welcome!\", \"No problem!\", \"My pleasure!\", \"Glad I could help!\"],\n",
    "    \"name\": [\"I'm ChatBot, your virtual assistant.\", \"You can call me ChatBot!\"],\n",
    "    \"joke\": [\n",
    "        \"Why don’t scientists trust atoms? Because they make up everything!\",\n",
    "        \"Why did the computer go to therapy? Because it had too many bugs.\",\n",
    "        \"What did the Java code say to the C code? You've got no class!\"\n",
    "    ],\n",
    "    \"how_are_you\": [\"I'm just a bunch of code, but thanks for asking!\", \"Doing great! Ready to chat with you.\"],\n",
    "    \"weather\": [\"I'm not a weather app, but I hope it's sunny where you are!\", \"Can't see the sky, but I wish you clear skies!\"],\n",
    "    \"default\": [\n",
    "        \"I'm sorry, I didn't understand that.\",\n",
    "        \"Could you please rephrase?\",\n",
    "        \"I'm not sure what you mean. Try asking something else.\"\n",
    "    ]\n",
    "}\n",
    "\n",
    "# Function to determine time-based greeting (optional)\n",
    "def time_based_greeting():\n",
    "    hour = datetime.datetime.now().hour\n",
    "    if hour < 12:\n",
    "        return \"Good morning!\"\n",
    "    elif hour < 18:\n",
    "        return \"Good afternoon!\"\n",
    "    else:\n",
    "        return \"Good evening!\"\n",
    "\n",
    "# Function to generate a response based on user input\n",
    "def generate_response(user_input):\n",
    "    user_input = user_input.lower()\n",
    "\n",
    "    if re.search(r'\\b(hello|hi|hey)\\b', user_input):\n",
    "        return random.choice(responses[\"greeting\"]) + \" \" + time_based_greeting()\n",
    "    elif re.search(r'\\b(goodbye|bye|see you)\\b', user_input):\n",
    "        return random.choice(responses[\"farewell\"])\n",
    "    elif re.search(r'\\b(thank|thanks|thank you)\\b', user_input):\n",
    "        return random.choice(responses[\"thanks\"])\n",
    "    elif re.search(r'\\b(your name|who are you)\\b', user_input):\n",
    "        return random.choice(responses[\"name\"])\n",
    "    elif re.search(r'\\b(joke|funny)\\b', user_input):\n",
    "        return random.choice(responses[\"joke\"])\n",
    "    elif re.search(r'\\b(how are you|how do you feel)\\b', user_input):\n",
    "        return random.choice(responses[\"how_are_you\"])\n",
    "    elif re.search(r'\\b(weather|rain|sunny|hot|cold)\\b', user_input):\n",
    "        return random.choice(responses[\"weather\"])\n",
    "    else:\n",
    "        return random.choice(responses[\"default\"])\n",
    "\n",
    "# Main interaction loop\n",
    "print(\"Suyash Lagad ||TACO22119.\")\n",
    "print(\"🤖 ChatBot is online! (Type 'exit' to quit)\")\n",
    "while True:\n",
    "    user_input = input(\"User: \")\n",
    "    if user_input.lower() == \"exit\":\n",
    "        print(\"Bot: Goodbye! 👋\")\n",
    "        break\n",
    "    bot_response = generate_response(user_input)\n",
    "    print(\"Bot:\", bot_response)\n"
   ]
  },
  {
   "cell_type": "code",
   "execution_count": null,
   "id": "42600c5b-fb4f-4e31-a737-116f75a6b4a8",
   "metadata": {},
   "outputs": [],
   "source": []
  }
 ],
 "metadata": {
  "kernelspec": {
   "display_name": "Python 3 (ipykernel)",
   "language": "python",
   "name": "python3"
  },
  "language_info": {
   "codemirror_mode": {
    "name": "ipython",
    "version": 3
   },
   "file_extension": ".py",
   "mimetype": "text/x-python",
   "name": "python",
   "nbconvert_exporter": "python",
   "pygments_lexer": "ipython3",
   "version": "3.13.3"
  }
 },
 "nbformat": 4,
 "nbformat_minor": 5
}
