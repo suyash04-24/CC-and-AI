{
 "cells": [
  {
   "cell_type": "code",
   "execution_count": 1,
   "id": "fc4988ea-d56f-4d91-89eb-cfe2172daa6a",
   "metadata": {},
   "outputs": [
    {
     "name": "stdout",
     "output_type": "stream",
     "text": [
      "Name: Pradnya jadhav\n",
      "Roll No: TACO22143\n"
     ]
    },
    {
     "name": "stdin",
     "output_type": "stream",
     "text": [
      "Enter the number of vertices:  3\n"
     ]
    },
    {
     "name": "stdout",
     "output_type": "stream",
     "text": [
      "Enter the adjacency matrix (0 for no edge):\n"
     ]
    },
    {
     "name": "stdin",
     "output_type": "stream",
     "text": [
      "Row 0:  1 2 3\n",
      "Row 1:  0 1 3\n",
      "Row 2:  1 3 0\n"
     ]
    },
    {
     "name": "stdout",
     "output_type": "stream",
     "text": [
      "\n",
      "Enter heuristic values for each vertex:\n"
     ]
    },
    {
     "name": "stdin",
     "output_type": "stream",
     "text": [
      "Heuristic for vertex 0:  1\n",
      "Heuristic for vertex 1:  3\n",
      "Heuristic for vertex 2:  2\n",
      "Enter the source vertex:  1\n"
     ]
    },
    {
     "name": "stdout",
     "output_type": "stream",
     "text": [
      "\n",
      "Vertex \tEstimated Total Cost from Source (f(n))\n",
      "0 \t 5\n",
      "1 \t 3\n",
      "2 \t 5\n"
     ]
    }
   ],
   "source": [
    "import sys\n",
    "\n",
    "class Graph:\n",
    "    def __init__(self, vertices):\n",
    "        self.V = vertices\n",
    "        self.graph = [[0 for _ in range(vertices)] for _ in range(vertices)]\n",
    "        self.heuristic = [0] * vertices  # Heuristic values for each vertex\n",
    "\n",
    "    def printSolution(self, dist):\n",
    "        print(\"\\nVertex \\tEstimated Total Cost from Source (f(n))\")\n",
    "        for node in range(self.V):\n",
    "            fn = dist[node] + self.heuristic[node]\n",
    "            print(f\"{node} \\t {fn}\")\n",
    "\n",
    "    def minDistance(self, dist, sptSet):\n",
    "        min_val = sys.maxsize\n",
    "        min_index = -1\n",
    "        for u in range(self.V):\n",
    "            if not sptSet[u] and (dist[u] + self.heuristic[u]) < min_val:\n",
    "                min_val = dist[u] + self.heuristic[u]\n",
    "                min_index = u\n",
    "        return min_index\n",
    "\n",
    "    def dijkstra(self, src):\n",
    "        dist = [sys.maxsize] * self.V\n",
    "        dist[src] = 0\n",
    "        sptSet = [False] * self.V\n",
    "\n",
    "        for _ in range(self.V):\n",
    "            x = self.minDistance(dist, sptSet)\n",
    "            if x == -1:\n",
    "                break\n",
    "            sptSet[x] = True\n",
    "\n",
    "            for y in range(self.V):\n",
    "                if self.graph[x][y] > 0 and not sptSet[y] and \\\n",
    "                   dist[y] > dist[x] + self.graph[x][y]:\n",
    "                    dist[y] = dist[x] + self.graph[x][y]\n",
    "\n",
    "        self.printSolution(dist)\n",
    "\n",
    "\n",
    "if __name__ == \"__main__\":\n",
    "    print(\"Name: Pradnya jadhav\")\n",
    "    print(\"Roll No: TACO22143\")\n",
    "\n",
    "    vertices = int(input(\"Enter the number of vertices: \"))\n",
    "    graph = []\n",
    "    print(\"Enter the adjacency matrix (0 for no edge):\")\n",
    "    for i in range(vertices):\n",
    "        row = list(map(int, input(f\"Row {i}: \").split()))\n",
    "        graph.append(row)\n",
    "\n",
    "    g = Graph(vertices)\n",
    "    g.graph = graph\n",
    "\n",
    "    print(\"\\nEnter heuristic values for each vertex:\")\n",
    "    for i in range(vertices):\n",
    "        g.heuristic[i] = int(input(f\"Heuristic for vertex {i}: \"))\n",
    "\n",
    "    src = int(input(\"Enter the source vertex: \"))\n",
    "    g.dijkstra(src)\n"
   ]
  },
  {
   "cell_type": "code",
   "execution_count": null,
   "id": "c2d8dff0-61d0-4281-86ef-6800ee76fd5e",
   "metadata": {},
   "outputs": [],
   "source": []
  },
  {
   "cell_type": "code",
   "execution_count": null,
   "id": "b0c954bd-488c-4080-87b8-ef1e2005b317",
   "metadata": {},
   "outputs": [],
   "source": []
  }
 ],
 "metadata": {
  "kernelspec": {
   "display_name": "Python [conda env:base] *",
   "language": "python",
   "name": "conda-base-py"
  },
  "language_info": {
   "codemirror_mode": {
    "name": "ipython",
    "version": 3
   },
   "file_extension": ".py",
   "mimetype": "text/x-python",
   "name": "python",
   "nbconvert_exporter": "python",
   "pygments_lexer": "ipython3",
   "version": "3.12.7"
  }
 },
 "nbformat": 4,
 "nbformat_minor": 5
}
